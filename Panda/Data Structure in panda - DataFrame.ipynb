{
 "cells": [
  {
   "cell_type": "code",
   "execution_count": 10,
   "id": "bde02a30",
   "metadata": {},
   "outputs": [],
   "source": [
    "import pandas as pd"
   ]
  },
  {
   "cell_type": "code",
   "execution_count": 11,
   "id": "ebbf772d",
   "metadata": {},
   "outputs": [
    {
     "name": "stdout",
     "output_type": "stream",
     "text": [
      "   0\n",
      "0  1\n",
      "1  2\n",
      "2  3\n",
      "3  4\n"
     ]
    }
   ],
   "source": [
    "l = [1,2,3,4]\n",
    "var1 = pd.DataFrame(l)\n",
    "print(var1)"
   ]
  },
  {
   "cell_type": "code",
   "execution_count": 12,
   "id": "ed0cfe25",
   "metadata": {},
   "outputs": [
    {
     "name": "stdout",
     "output_type": "stream",
     "text": [
      "[1, 2, 3, 4]\n"
     ]
    }
   ],
   "source": [
    "z= [1,2,3,4]\n",
    "var2 = pd.Series(z)\n",
    "print(z)\n",
    "y=[5,6,7,8]\n",
    "var3 = pd.Series(y)\n",
    "var4 = {\"hello\":z,\"code\":y}"
   ]
  },
  {
   "cell_type": "code",
   "execution_count": 13,
   "id": "b09fea79",
   "metadata": {},
   "outputs": [
    {
     "name": "stdout",
     "output_type": "stream",
     "text": [
      "{'hello': [1, 2, 3, 4], 'code': [5, 6, 7, 8]}\n"
     ]
    }
   ],
   "source": [
    "print(var4)"
   ]
  },
  {
   "cell_type": "code",
   "execution_count": 14,
   "id": "eac3762f",
   "metadata": {},
   "outputs": [],
   "source": [
    "var5 = pd.DataFrame(var4)"
   ]
  },
  {
   "cell_type": "code",
   "execution_count": 15,
   "id": "7b08e5cc",
   "metadata": {},
   "outputs": [
    {
     "name": "stdout",
     "output_type": "stream",
     "text": [
      "   hello  code\n",
      "0      1     5\n",
      "1      2     6\n",
      "2      3     7\n",
      "3      4     8\n"
     ]
    }
   ],
   "source": [
    "print(var5)"
   ]
  },
  {
   "cell_type": "code",
   "execution_count": 17,
   "id": "4d0f4b91",
   "metadata": {},
   "outputs": [
    {
     "name": "stdout",
     "output_type": "stream",
     "text": [
      "   a  b   c\n",
      "0  1  5   9\n",
      "1  2  6  10\n",
      "2  3  7  11\n",
      "3  4  8  12\n"
     ]
    }
   ],
   "source": [
    "var6 ={\"a\":[1,2,3,4],\"b\":[5,6,7,8],\"c\":[9,10,11,12]}\n",
    "var7 = pd.DataFrame(var6)\n",
    "print(var7)"
   ]
  },
  {
   "cell_type": "code",
   "execution_count": 18,
   "id": "39dad38e",
   "metadata": {},
   "outputs": [
    {
     "name": "stdout",
     "output_type": "stream",
     "text": [
      "2\n"
     ]
    }
   ],
   "source": [
    "print(var7[\"a\"][1])"
   ]
  },
  {
   "cell_type": "code",
   "execution_count": null,
   "id": "53f287e5",
   "metadata": {},
   "outputs": [],
   "source": []
  }
 ],
 "metadata": {
  "kernelspec": {
   "display_name": "Python 3 (ipykernel)",
   "language": "python",
   "name": "python3"
  },
  "language_info": {
   "codemirror_mode": {
    "name": "ipython",
    "version": 3
   },
   "file_extension": ".py",
   "mimetype": "text/x-python",
   "name": "python",
   "nbconvert_exporter": "python",
   "pygments_lexer": "ipython3",
   "version": "3.11.1"
  }
 },
 "nbformat": 4,
 "nbformat_minor": 5
}
