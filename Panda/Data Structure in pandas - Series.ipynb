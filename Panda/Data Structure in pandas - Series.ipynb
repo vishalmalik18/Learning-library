{
 "cells": [
  {
   "cell_type": "code",
   "execution_count": 1,
   "id": "76927adc",
   "metadata": {},
   "outputs": [],
   "source": [
    "import pandas as pd"
   ]
  },
  {
   "cell_type": "code",
   "execution_count": 6,
   "id": "bb81c892",
   "metadata": {},
   "outputs": [
    {
     "name": "stdout",
     "output_type": "stream",
     "text": [
      "0    1\n",
      "1    2\n",
      "2    3\n",
      "3    4\n",
      "dtype: int64\n"
     ]
    }
   ],
   "source": [
    "x=[1,2,3,4]\n",
    "var1 = pd.Series(x)\n",
    "print(var1)"
   ]
  },
  {
   "cell_type": "code",
   "execution_count": 7,
   "id": "a2efbc96",
   "metadata": {},
   "outputs": [
    {
     "name": "stdout",
     "output_type": "stream",
     "text": [
      "<class 'pandas.core.series.Series'>\n"
     ]
    }
   ],
   "source": [
    "print(type(var1))"
   ]
  },
  {
   "cell_type": "code",
   "execution_count": 8,
   "id": "f9bdc4d7",
   "metadata": {},
   "outputs": [
    {
     "name": "stdout",
     "output_type": "stream",
     "text": [
      "(4,)\n"
     ]
    }
   ],
   "source": [
    "print(var1.shape)"
   ]
  },
  {
   "cell_type": "code",
   "execution_count": 9,
   "id": "7f7b95c7",
   "metadata": {},
   "outputs": [
    {
     "name": "stdout",
     "output_type": "stream",
     "text": [
      "1\n"
     ]
    }
   ],
   "source": [
    "print(var1.ndim)"
   ]
  },
  {
   "cell_type": "code",
   "execution_count": 11,
   "id": "88dbd621",
   "metadata": {},
   "outputs": [
    {
     "name": "stdout",
     "output_type": "stream",
     "text": [
      "0       [1, 2, 3]\n",
      "1    [5, 6, 7, 8]\n",
      "dtype: object\n"
     ]
    }
   ],
   "source": [
    "x2= [[1,2,3],[5,6,7,8]]\n",
    "var2 = pd.Series(x2)\n",
    "print(var2)"
   ]
  },
  {
   "cell_type": "code",
   "execution_count": 15,
   "id": "7db2a5b7",
   "metadata": {},
   "outputs": [
    {
     "name": "stdout",
     "output_type": "stream",
     "text": [
      "0    hello[1,2,3,4]\n",
      "1              code\n",
      "2      [5, 6, 7, 8]\n",
      "dtype: object\n"
     ]
    }
   ],
   "source": [
    "x3 = ['hello'[1,2,3,4],'code'[5,6,7,8]]\n",
    "var3 = pd.series(x3)\n",
    "print(var3)"
   ]
  },
  {
   "cell_type": "code",
   "execution_count": 17,
   "id": "b7eac8da",
   "metadata": {},
   "outputs": [
    {
     "name": "stdout",
     "output_type": "stream",
     "text": [
      "name    [python, java, c++, notejs]\n",
      "rank                      [1, 3, 4]\n",
      "pov                [11, 12, 13, 14]\n",
      "dtype: object\n"
     ]
    }
   ],
   "source": [
    "x4 = {'name':[\"python\",\"java\",\"c++\",\"notejs\"],\"rank\":[1,3,4],'pov':[11,12,13,14]}\n",
    "var4 = pd.Series(x4)\n",
    "print(var4)"
   ]
  },
  {
   "cell_type": "code",
   "execution_count": 18,
   "id": "806c5163",
   "metadata": {},
   "outputs": [
    {
     "name": "stdout",
     "output_type": "stream",
     "text": [
      "1    12\n",
      "2    12\n",
      "3    12\n",
      "4    12\n",
      "5    12\n",
      "6    12\n",
      "7    12\n",
      "dtype: int64\n"
     ]
    }
   ],
   "source": [
    "y = pd.Series(12,index= [1,2,3,4,5,6,7])\n",
    "print(y)"
   ]
  },
  {
   "cell_type": "code",
   "execution_count": 23,
   "id": "7135ea83",
   "metadata": {},
   "outputs": [
    {
     "name": "stdout",
     "output_type": "stream",
     "text": [
      "0     8.0\n",
      "1    10.0\n",
      "2    12.0\n",
      "3    14.0\n",
      "4    16.0\n",
      "5    18.0\n",
      "6     NaN\n",
      "dtype: float64\n"
     ]
    }
   ],
   "source": [
    "x1 = [1,2,3,4,5,6,7]\n",
    "x2 = [7,8,9,10,11,12]\n",
    "s1= pd.Series(x1)\n",
    "s2= pd.Series(x2)\n",
    "z = s1+s2\n",
    "print(z)"
   ]
  },
  {
   "cell_type": "code",
   "execution_count": null,
   "id": "8849c9ec",
   "metadata": {},
   "outputs": [],
   "source": []
  }
 ],
 "metadata": {
  "kernelspec": {
   "display_name": "Python 3 (ipykernel)",
   "language": "python",
   "name": "python3"
  },
  "language_info": {
   "codemirror_mode": {
    "name": "ipython",
    "version": 3
   },
   "file_extension": ".py",
   "mimetype": "text/x-python",
   "name": "python",
   "nbconvert_exporter": "python",
   "pygments_lexer": "ipython3",
   "version": "3.11.1"
  }
 },
 "nbformat": 4,
 "nbformat_minor": 5
}
